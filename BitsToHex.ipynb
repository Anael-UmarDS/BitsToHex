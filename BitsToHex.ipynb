{
  "nbformat": 4,
  "nbformat_minor": 0,
  "metadata": {
    "colab": {
      "provenance": []
    },
    "kernelspec": {
      "name": "python3",
      "display_name": "Python 3"
    },
    "language_info": {
      "name": "python"
    }
  },
  "cells": [
    {
      "cell_type": "code",
      "source": [
        "#Ask user for binary number(keep as string)\n",
        "\n",
        "binary = input(\"Enter binary number: \")\n",
        "\n",
        "\n",
        "#Create dictionary of all hexadecimals as 4 bit digits\n",
        "hex_digits = {\"0000\": \"0\", \"0001\": \"1\", \"0010\": \"2\", \"0011\": \"3\",\n",
        "           \"0100\": \"4\", \"0101\": \"5\", \"0110\": \"6\", \"0111\": \"7\",\n",
        "           \"1000\": \"8\", \"1001\": \"9\", \"1010\": \"A\", \"1011\": \"B\",\n",
        "           \"1100\": \"C\", \"1101\": \"D\", \"1110\": \"E\", \"1111\": \"F\"}\n",
        "\n",
        "\n",
        "#Check if the length of binary is even, so that it can be esily checked by every 4 digits. If not, add 0s until total of 4\n",
        "if len(binary) % 2 == 1:\n",
        "  while len(binary) % 4 != 0:\n",
        "    binary = \"0\" + binary\n",
        "\n",
        "#print(binary)\n",
        "\n",
        "\n",
        "#Create new string for result\n",
        "hexadecimal = \"\"\n",
        "\n",
        "\n",
        "#Initiate loop that checks every four numbers of binary numbers(for calculation purposes)\n",
        "for i in range(0, len(binary), 4):\n",
        "#Loop through the dictionary for finding keys(bits) that would match the current 4 digits of binary\n",
        "  for bit, hex in hex_digits.items():\n",
        "    #print(bit)\n",
        "    if bit == binary[i : i + 4]:    #Search every 4 bits of the binary number given by user, if it matches one on the dictionary\n",
        "      hexadecimal += hex  #Concatenate hexadecimal to result\n",
        " \n",
        "print(hexadecimal) #Print final result"
      ],
      "metadata": {
        "colab": {
          "base_uri": "https://localhost:8080/"
        },
        "id": "wRFkl0sWVEzf",
        "outputId": "399e40e4-f29d-4d5b-cb26-35289ffca232"
      },
      "execution_count": 52,
      "outputs": [
        {
          "output_type": "stream",
          "name": "stdout",
          "text": [
            "Enter binary number: 10101\n",
            "15\n"
          ]
        }
      ]
    }
  ]
}